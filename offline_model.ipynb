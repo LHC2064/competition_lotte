{
 "cells": [
  {
   "cell_type": "code",
   "execution_count": 1,
   "id": "e782004b",
   "metadata": {},
   "outputs": [],
   "source": [
    "import random\n",
    "import pandas as pd\n",
    "import numpy as np\n",
    "import warnings\n",
    "from tqdm import tqdm\n",
    "from collections import Counter\n",
    "warnings.filterwarnings(action='ignore')"
   ]
  },
  {
   "cell_type": "code",
   "execution_count": 2,
   "id": "d1d8b3f6",
   "metadata": {},
   "outputs": [],
   "source": [
    "off_buyam_normal_final = pd.read_csv('./off_buyam_normal_final.csv')\n",
    "off_buycnt_normal_final = pd.read_csv('./off_buycnt_normal_final.csv')\n",
    "purchase_offline = pd.read_csv('./purchase_offline_nofood.csv')"
   ]
  },
  {
   "cell_type": "markdown",
   "id": "650bdfe9",
   "metadata": {},
   "source": [
    "## 협업필터링"
   ]
  },
  {
   "cell_type": "code",
   "execution_count": 3,
   "id": "990d2a9b",
   "metadata": {},
   "outputs": [],
   "source": [
    "# (target_df = 여기서는 normal 그룹의 구매금액 합, cid= 원하는 고객의 id, n_person=뽑고 싶은 유사한 고객의 수)\n",
    "def get_sim_custs(target_df, cid, n_person):\n",
    "    cluster_num = target_df[target_df['cust_id']==cid]['cluster'].values[0] # 원하는 고객의 클러스터 번호 추출\n",
    "    sim_cluster = target_df[target_df['cluster']==cluster_num].copy()       #  같은 클러스터 고객들 추출\n",
    "    n_df = sim_cluster.iloc[:,:-1].set_index('cust_id')               \n",
    "    norm_values = n_df.values\n",
    "    corr = np.corrcoef(norm_values)\n",
    "    corr_df = pd.DataFrame(corr, index=n_df.index, columns=n_df.index)    # 같은 클러스터 고객들 상관계수 df\n",
    "    sorted_df = corr_df[cid].sort_values(ascending=False)\n",
    "    top_n_df = sorted_df[sorted_df<1][:n_person]\n",
    "    res = top_n_df[top_n_df.values>0.5]  #피어슨 계수가 0.5 이상인 고객만\n",
    "    return res"
   ]
  },
  {
   "cell_type": "markdown",
   "id": "62e03ca1",
   "metadata": {},
   "source": [
    "## 연관규칙을 이용한 lift가 가장 높은 상품 추출"
   ]
  },
  {
   "cell_type": "code",
   "execution_count": 4,
   "id": "d74ce3c1",
   "metadata": {},
   "outputs": [],
   "source": [
    "# 구매내역 추출 함수\n",
    "# (target_df = 여기서는 normal 그룹의 구매금액 합 데이터 프레임, cid= 원하는 고객의 id)\n",
    "def get_buy_list(target_df,cid):\n",
    "    buy_df = target_df[target_df['cust_id']==cid].iloc[:,1:-8]\n",
    "    buy_bool = buy_df.values > 0\n",
    "    buy_list = buy_df.columns[buy_bool[0]].to_list()\n",
    "    return buy_list"
   ]
  },
  {
   "cell_type": "code",
   "execution_count": 5,
   "id": "744d76dd",
   "metadata": {},
   "outputs": [],
   "source": [
    "# 고객별 하루 단위로 구매한 전체 리스트 (하루에 2개 이상 구매 기준)\n",
    "\n",
    "# target_df=원하는 집단의 구매내역 데이터 프레임, cid= 구매내역을 알고싶은 고객id,구매내역을 저장할 list 변수\n",
    "def get_tot_list(target_df, cid, prch_list):\n",
    "    cust = target_df[target_df['cust']==cid]\n",
    "    temp = cust[['clac_hlv_nm','de_dt']].drop_duplicates()\n",
    "    res = temp.groupby('de_dt').count()\n",
    "    date_list = res[res['clac_hlv_nm'] > 1].index.to_list() # 하루에 2개 이상 구매했을 때만\n",
    "    \n",
    "    for date in date_list:\n",
    "        ctg_list = temp[temp['de_dt']==date]['clac_hlv_nm'].to_list()\n",
    "        prch_list.append(ctg_list)"
   ]
  },
  {
   "cell_type": "code",
   "execution_count": 6,
   "id": "30cfa5ac",
   "metadata": {},
   "outputs": [],
   "source": [
    "# 리프트 구하기\n",
    "# tot_list = 전체 구매내역 리스트, x= 상품1, y=상품2\n",
    "def get_lift(tot_list, x, y):\n",
    "    try:\n",
    "        tot = len(tot_list)\n",
    "        x_cnt = 0\n",
    "        y_cnt = 0\n",
    "        xy_cnt = 0\n",
    "\n",
    "        for val in tot_list:\n",
    "            if (x in val) and (y in val):\n",
    "                x_cnt +=1\n",
    "                y_cnt +=1\n",
    "                xy_cnt +=1\n",
    "            else:\n",
    "                if x in val:\n",
    "                    x_cnt +=1\n",
    "                if y in val:   \n",
    "                    y_cnt +=1\n",
    "\n",
    "        x_support = x_cnt/tot\n",
    "        y_support = y_cnt/tot\n",
    "        xy_support = xy_cnt/tot\n",
    "        lift = xy_support/(x_support*y_support)\n",
    "\n",
    "        return lift\n",
    "    except:\n",
    "        return -100\n",
    "    \n",
    "    \n",
    "# 특정상품 support 구하기\n",
    "# tot_list = 전체 구매내역 리스트, x=타겟 상품\n",
    "def get_support(tot_list, x):\n",
    "    try:\n",
    "        tot = len(tot_list)\n",
    "        x_cnt = 0\n",
    "\n",
    "        for val in tot_list:\n",
    "            if x in val:\n",
    "                x_cnt +=1\n",
    "                \n",
    "        x_support = x_cnt/tot\n",
    "        return x_support\n",
    "    except:\n",
    "        return -100"
   ]
  },
  {
   "cell_type": "code",
   "execution_count": 7,
   "id": "9a7413e6",
   "metadata": {},
   "outputs": [],
   "source": [
    "def top_lift_prd(target_prd, tot_list, ctg_list):\n",
    "    res_dict = {}\n",
    "    crgr_copy = ctg_list.copy()\n",
    "    crgr_copy.remove(target_prd)\n",
    "    for ctg in crgr_copy:\n",
    "        res_dict[ctg]=get_lift(tot_list,target_prd, ctg)\n",
    "    \n",
    "    if (res_dict[max(res_dict, key=res_dict.get)] > 1):\n",
    "        return max(res_dict, key=res_dict.get)\n",
    "    else:\n",
    "        return None"
   ]
  },
  {
   "cell_type": "markdown",
   "id": "c3bd25a2",
   "metadata": {},
   "source": [
    "## 최종 추천 카테고리 추출"
   ]
  },
  {
   "cell_type": "code",
   "execution_count": 8,
   "id": "9528ee03",
   "metadata": {},
   "outputs": [],
   "source": [
    "def get_rec_prd(cid, n_person):\n",
    "    rec_prd = []\n",
    "    support_dict = {}\n",
    "    target_people = get_sim_custs(off_buyam_normal_final, cid, n_person).index.to_list()\n",
    "    target_people.append(cid)\n",
    "    \n",
    "    for person in target_people:\n",
    "        buy_list = get_buy_list(off_buycnt_normal_final, person) # 해당 고객이 구매한 내역\n",
    "        cluster_num = off_buycnt_normal_final[off_buycnt_normal_final['cust_id']==person]['cluster'].values[0] # 개수 기반 클러스터 번호 추출\n",
    "        sim_cluster_ids = off_buycnt_normal_final[off_buycnt_normal_final['cluster']==cluster_num]['cust_id'].to_list() # 개수 기반 동일 클러스터 고객들 id\n",
    "        prch_df = purchase_offline[purchase_offline['cust'].isin(sim_cluster_ids)] # 유사 클러스터집단 구매내역 df\n",
    "        ctgr_set = set(prch_df['clac_hlv_nm'].to_list()) #카테고리 set\n",
    "        prch_list = []  # 유사 클러스터 고객별 날짜별 묶음 내역 -> 연관규칙 계산에 활용\n",
    "        \n",
    "        # 연관규칙 계산에 활용할 날짜별 구매내역 생성\n",
    "        for cid in sim_cluster_ids:\n",
    "            get_tot_list(prch_df, cid, prch_list)\n",
    "            \n",
    "        # lift가 가장 높은 상품을 추천상품 내역에 append\n",
    "        for prd in buy_list:\n",
    "            final_prd = top_lift_prd(prd, prch_list,ctgr_set)\n",
    "            if final_prd != None:\n",
    "                rec_prd.append(final_prd)\n",
    "                support_dict[final_prd] = get_support(prch_list,final_prd)\n",
    "            \n",
    "    cnt = Counter(rec_prd)\n",
    "    count_list= []\n",
    "    for i in range(len(cnt.most_common())):\n",
    "        count_list.append(cnt.most_common()[i][1])\n",
    "    top_cnt = count_list.count(cnt.most_common()[0][1])  # 빈도수가 가장 높은 카테고리 중복개수\n",
    "    \n",
    "    if top_cnt == 1:                                     # 중복이 없으면 가장 높은거 1개 추출\n",
    "        return cnt.most_common()[0][0]  \n",
    "    else:                                                # 중복이 있다면 support가 가장 높은 것을 추출\n",
    "        top_list = []\n",
    "        for i in range(top_cnt):\n",
    "            top_list.append(cnt.most_common()[i][0])\n",
    "        \n",
    "        top_support = {}\n",
    "        for prd in top_list:\n",
    "            top_support[prd] = support_dict[prd]\n",
    "        return max(top_support, key=top_support.get)"
   ]
  },
  {
   "cell_type": "code",
   "execution_count": 9,
   "id": "78a8d2e2",
   "metadata": {},
   "outputs": [
    {
     "data": {
      "text/plain": [
       "'여행/레저서비스'"
      ]
     },
     "execution_count": 9,
     "metadata": {},
     "output_type": "execute_result"
    }
   ],
   "source": [
    "get_rec_prd('M542006779', 10)"
   ]
  },
  {
   "cell_type": "code",
   "execution_count": null,
   "id": "f95245c2",
   "metadata": {},
   "outputs": [],
   "source": []
  }
 ],
 "metadata": {
  "kernelspec": {
   "display_name": "Python 3.8.12 ('daycon')",
   "language": "python",
   "name": "python3"
  },
  "language_info": {
   "codemirror_mode": {
    "name": "ipython",
    "version": 3
   },
   "file_extension": ".py",
   "mimetype": "text/x-python",
   "name": "python",
   "nbconvert_exporter": "python",
   "pygments_lexer": "ipython3",
   "version": "3.8.12"
  },
  "toc": {
   "base_numbering": 1,
   "nav_menu": {},
   "number_sections": true,
   "sideBar": true,
   "skip_h1_title": false,
   "title_cell": "Table of Contents",
   "title_sidebar": "Contents",
   "toc_cell": false,
   "toc_position": {},
   "toc_section_display": true,
   "toc_window_display": false
  },
  "vscode": {
   "interpreter": {
    "hash": "0ca86055463293cfa8e10f92ee658656de30a61ef8c054c28dc542a82c9ea808"
   }
  }
 },
 "nbformat": 4,
 "nbformat_minor": 5
}
